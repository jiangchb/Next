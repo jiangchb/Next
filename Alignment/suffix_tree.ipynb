{
 "cells": [
  {
   "cell_type": "code",
   "execution_count": 3,
   "id": "8a0283ef",
   "metadata": {},
   "outputs": [],
   "source": [
    "class SuffixTree(object):\n",
    "    \n",
    "    class Node(object):\n",
    "        def __init__(self, lab):\n",
    "            self.lab = lab # label on path leading to this node\n",
    "            self.out = {}  # outgoing edges; maps characters to nodes\n",
    "    \n",
    "    def __init__(self, s):\n",
    "        \"\"\" Make suffix tree, without suffix links, from s in quadratic time\n",
    "            and linear space \"\"\"\n",
    "        s += '$'\n",
    "        self.root = self.Node(None)\n",
    "        self.root.out[s[0]] = self.Node(s) # trie for just longest suf\n",
    "        # add the rest of the suffixes, from longest to shortest\n",
    "        for i in range(1, len(s)):\n",
    "            # start at root; we’ll walk down as far as we can go\n",
    "            cur = self.root\n",
    "            j = i\n",
    "            while j < len(s):\n",
    "                if s[j] in cur.out:\n",
    "                    child = cur.out[s[j]]\n",
    "                    lab = child.lab\n",
    "                    # Walk along edge until we exhaust edge label or\n",
    "                    # until we mismatch\n",
    "                    k = j+1 \n",
    "                    while k-j < len(lab) and s[k] == lab[k-j]:\n",
    "                        k += 1\n",
    "                    if k-j == len(lab):\n",
    "                        cur = child # we exhausted the edge\n",
    "                        j = k\n",
    "                    else:\n",
    "                        # we fell off in middle of edge\n",
    "                        cExist, cNew = lab[k-j], s[k]\n",
    "                        # create “mid”: new node bisecting edge\n",
    "                        mid = self.Node(lab[:k-j])\n",
    "                        mid.out[cNew] = self.Node(s[k:])\n",
    "                        # original child becomes mid’s child\n",
    "                        mid.out[cExist] = child\n",
    "                        # original child’s label is curtailed\n",
    "                        child.lab = lab[k-j:]\n",
    "                        # mid becomes new child of original parent\n",
    "                        cur.out[s[j]] = mid\n",
    "                else:\n",
    "                    # Fell off tree at a node: make new edge hanging off it\n",
    "                    cur.out[s[j]] = self.Node(s[j:])\n",
    "    \n",
    "    def followPath(self, s):\n",
    "        \"\"\" Follow path given by s.  If we fall off tree, return None.  If we\n",
    "            finish mid-edge, return (node, offset) where 'node' is child and\n",
    "            'offset' is label offset.  If we finish on a node, return (node,\n",
    "            None). \"\"\"\n",
    "        cur = self.root\n",
    "        i = 0\n",
    "        while i < len(s):\n",
    "            c = s[i]\n",
    "            if c not in cur.out:\n",
    "                return (None, None) # fell off at a node\n",
    "            child = cur.out[s[i]]\n",
    "            lab = child.lab\n",
    "            j = i+1\n",
    "            while j-i < len(lab) and j < len(s) and s[j] == lab[j-i]:\n",
    "                j += 1\n",
    "            if j-i == len(lab):\n",
    "                cur = child # exhausted edge\n",
    "                i = j\n",
    "            elif j == len(s):\n",
    "                return (child, j-i) # exhausted query string in middle of edge\n",
    "            else:\n",
    "                return (None, None) # fell off in the middle of the edge\n",
    "        return (cur, None) # exhausted query string at internal node\n",
    "    \n",
    "    def hasSubstring(self, s):\n",
    "        \"\"\" Return true iff s appears as a substring \"\"\"\n",
    "        node, off = self.followPath(s)\n",
    "        return node is not None\n",
    "    \n",
    "    def hasSuffix(self, s):\n",
    "        \"\"\" Return true iff s is a suffix \"\"\"\n",
    "        node, off = self.followPath(s)\n",
    "        if node is None:\n",
    "            return False # fell off the tree\n",
    "        if off is None:\n",
    "            # finished on top of a node\n",
    "            return '$' in node.out\n",
    "        else:\n",
    "            # finished at offset 'off' within an edge leading to 'node'\n",
    "            return node.lab[off] == '$'"
   ]
  },
  {
   "cell_type": "code",
   "execution_count": 4,
   "id": "e0921d49",
   "metadata": {},
   "outputs": [],
   "source": [
    "stree = SuffixTree('there would have been a time for such a word')"
   ]
  },
  {
   "cell_type": "code",
   "execution_count": 5,
   "id": "ce406d23",
   "metadata": {},
   "outputs": [
    {
     "data": {
      "text/plain": [
       "True"
      ]
     },
     "execution_count": 5,
     "metadata": {},
     "output_type": "execute_result"
    }
   ],
   "source": [
    "stree.hasSubstring('would have been')"
   ]
  },
  {
   "cell_type": "code",
   "execution_count": 6,
   "id": "5ba02656",
   "metadata": {},
   "outputs": [
    {
     "ename": "NameError",
     "evalue": "name 's' is not defined",
     "output_type": "error",
     "traceback": [
      "\u001b[0;31m---------------------------------------------------------------------------\u001b[0m",
      "\u001b[0;31mNameError\u001b[0m                                 Traceback (most recent call last)",
      "\u001b[0;32m/tmp/ipykernel_185000/1721772641.py\u001b[0m in \u001b[0;36m<module>\u001b[0;34m\u001b[0m\n\u001b[0;32m----> 1\u001b[0;31m \u001b[0mprint\u001b[0m \u001b[0;34m(\u001b[0m\u001b[0ms\u001b[0m\u001b[0;34m)\u001b[0m\u001b[0;34m\u001b[0m\u001b[0;34m\u001b[0m\u001b[0m\n\u001b[0m",
      "\u001b[0;31mNameError\u001b[0m: name 's' is not defined"
     ]
    }
   ],
   "source": [
    "print (s)"
   ]
  },
  {
   "cell_type": "code",
   "execution_count": 7,
   "id": "11124286",
   "metadata": {},
   "outputs": [],
   "source": [
    "s = 'there would have been a time for such a word'"
   ]
  },
  {
   "cell_type": "code",
   "execution_count": 8,
   "id": "2b18b999",
   "metadata": {},
   "outputs": [],
   "source": [
    "s += '$'"
   ]
  },
  {
   "cell_type": "code",
   "execution_count": 9,
   "id": "77c73a8b",
   "metadata": {},
   "outputs": [
    {
     "data": {
      "text/plain": [
       "'there would have been a time for such a word$'"
      ]
     },
     "execution_count": 9,
     "metadata": {},
     "output_type": "execute_result"
    }
   ],
   "source": [
    "s"
   ]
  },
  {
   "cell_type": "code",
   "execution_count": 10,
   "id": "d02d984c",
   "metadata": {},
   "outputs": [
    {
     "data": {
      "text/plain": [
       "'t'"
      ]
     },
     "execution_count": 10,
     "metadata": {},
     "output_type": "execute_result"
    }
   ],
   "source": [
    "s[0]"
   ]
  },
  {
   "cell_type": "code",
   "execution_count": 14,
   "id": "98cf7aea",
   "metadata": {},
   "outputs": [
    {
     "data": {
      "text/plain": [
       "<__main__.SuffixTree.Node at 0x7fd5844ca160>"
      ]
     },
     "execution_count": 14,
     "metadata": {},
     "output_type": "execute_result"
    }
   ],
   "source": [
    "stree.Node(\"thre\")"
   ]
  },
  {
   "cell_type": "code",
   "execution_count": 15,
   "id": "42b5b82c",
   "metadata": {},
   "outputs": [],
   "source": [
    "  class Node(object):\n",
    "        def __init__(self, lab):\n",
    "            self.lab = lab # label on path leading to this node\n",
    "            self.out = {}  # outgoing edges; maps characters to nodes"
   ]
  },
  {
   "cell_type": "code",
   "execution_count": 16,
   "id": "66a48dba",
   "metadata": {},
   "outputs": [
    {
     "ename": "NameError",
     "evalue": "name 'cur' is not defined",
     "output_type": "error",
     "traceback": [
      "\u001b[0;31m---------------------------------------------------------------------------\u001b[0m",
      "\u001b[0;31mNameError\u001b[0m                                 Traceback (most recent call last)",
      "\u001b[0;32m/tmp/ipykernel_185000/4147700424.py\u001b[0m in \u001b[0;36m<module>\u001b[0;34m\u001b[0m\n\u001b[0;32m----> 1\u001b[0;31m \u001b[0mcur\u001b[0m\u001b[0;34m.\u001b[0m\u001b[0mout\u001b[0m\u001b[0;34m[\u001b[0m\u001b[0ms\u001b[0m\u001b[0;34m[\u001b[0m\u001b[0;36m1\u001b[0m\u001b[0;34m]\u001b[0m\u001b[0;34m]\u001b[0m\u001b[0;34m\u001b[0m\u001b[0;34m\u001b[0m\u001b[0m\n\u001b[0m",
      "\u001b[0;31mNameError\u001b[0m: name 'cur' is not defined"
     ]
    }
   ],
   "source": [
    "cur.out[s[1]]"
   ]
  },
  {
   "cell_type": "code",
   "execution_count": 18,
   "id": "ff8da0b4",
   "metadata": {},
   "outputs": [
    {
     "ename": "NameError",
     "evalue": "name 'self' is not defined",
     "output_type": "error",
     "traceback": [
      "\u001b[0;31m---------------------------------------------------------------------------\u001b[0m",
      "\u001b[0;31mNameError\u001b[0m                                 Traceback (most recent call last)",
      "\u001b[0;32m/tmp/ipykernel_185000/1519086497.py\u001b[0m in \u001b[0;36m<module>\u001b[0;34m\u001b[0m\n\u001b[0;32m----> 1\u001b[0;31m \u001b[0mcur\u001b[0m \u001b[0;34m=\u001b[0m\u001b[0mself\u001b[0m\u001b[0;34m.\u001b[0m\u001b[0mNode\u001b[0m\u001b[0;34m(\u001b[0m\u001b[0;32mNone\u001b[0m\u001b[0;34m)\u001b[0m\u001b[0;34m\u001b[0m\u001b[0;34m\u001b[0m\u001b[0m\n\u001b[0m",
      "\u001b[0;31mNameError\u001b[0m: name 'self' is not defined"
     ]
    }
   ],
   "source": [
    "cur =self.Node(None)"
   ]
  },
  {
   "cell_type": "code",
   "execution_count": 19,
   "id": "923e295c",
   "metadata": {},
   "outputs": [],
   "source": [
    "cur = Node(None)"
   ]
  },
  {
   "cell_type": "code",
   "execution_count": 23,
   "id": "69a22ece",
   "metadata": {},
   "outputs": [],
   "source": [
    "cur.out[s[0]] = Node(s)"
   ]
  },
  {
   "cell_type": "code",
   "execution_count": 24,
   "id": "941b85a6",
   "metadata": {},
   "outputs": [
    {
     "data": {
      "text/plain": [
       "<__main__.Node at 0x7fd5844ca6d0>"
      ]
     },
     "execution_count": 24,
     "metadata": {},
     "output_type": "execute_result"
    }
   ],
   "source": [
    "cur.out[s[0]]"
   ]
  },
  {
   "cell_type": "code",
   "execution_count": null,
   "id": "419905ec",
   "metadata": {},
   "outputs": [],
   "source": [
    "for i in range(1, len(s)):\n",
    "    j = i\n",
    "    while j < len(s):\n",
    "        if s[j] in cur.out:\n",
    "            child = cur.out[s[j]]\n",
    "            lab = child.lab\n",
    "                # Walk along edge until we exhaust edge label or\n",
    "                # until we mismatch\n",
    "            k = j+1 \n",
    "                    while k-j < len(lab) and s[k] == lab[k-j]:\n",
    "                        k += 1\n",
    "                    if k-j == len(lab):\n",
    "                        cur = child # we exhausted the edge\n",
    "                        j = k\n",
    "                    else:\n",
    "                        # we fell off in middle of edge\n",
    "                        cExist, cNew = lab[k-j], s[k]\n",
    "                        # create “mid”: new node bisecting edge\n",
    "                        mid = self.Node(lab[:k-j])\n",
    "                        mid.out[cNew] = self.Node(s[k:])\n",
    "                        # original child becomes mid’s child\n",
    "                        mid.out[cExist] = child\n",
    "                        # original child’s label is curtailed\n",
    "                        child.lab = lab[k-j:]\n",
    "                        # mid becomes new child of original parent\n",
    "                        cur.out[s[j]] = mid\n",
    "                else:\n",
    "                    # Fell off tree at a node: make new edge hanging off it\n",
    "                    cur.out[s[j]] = self.Node(s[j:])"
   ]
  },
  {
   "cell_type": "code",
   "execution_count": null,
   "id": "9fddd513",
   "metadata": {},
   "outputs": [],
   "source": []
  }
 ],
 "metadata": {
  "kernelspec": {
   "display_name": "Python 3 (ipykernel)",
   "language": "python",
   "name": "python3"
  },
  "language_info": {
   "codemirror_mode": {
    "name": "ipython",
    "version": 3
   },
   "file_extension": ".py",
   "mimetype": "text/x-python",
   "name": "python",
   "nbconvert_exporter": "python",
   "pygments_lexer": "ipython3",
   "version": "3.8.10"
  }
 },
 "nbformat": 4,
 "nbformat_minor": 5
}
